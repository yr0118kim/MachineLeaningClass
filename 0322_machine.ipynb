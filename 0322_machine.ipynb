{
  "nbformat": 4,
  "nbformat_minor": 0,
  "metadata": {
    "colab": {
      "provenance": [],
      "authorship_tag": "ABX9TyPBXYxM4YtpmUBVZ83UljuD",
      "include_colab_link": true
    },
    "kernelspec": {
      "name": "python3",
      "display_name": "Python 3"
    },
    "language_info": {
      "name": "python"
    }
  },
  "cells": [
    {
      "cell_type": "markdown",
      "metadata": {
        "id": "view-in-github",
        "colab_type": "text"
      },
      "source": [
        "<a href=\"https://colab.research.google.com/github/yr0118kim/MachineLeaningClass/blob/main/0322_machine.ipynb\" target=\"_parent\"><img src=\"https://colab.research.google.com/assets/colab-badge.svg\" alt=\"Open In Colab\"/></a>"
      ]
    },
    {
      "cell_type": "code",
      "execution_count": 1,
      "metadata": {
        "colab": {
          "base_uri": "https://localhost:8080/",
          "height": 185
        },
        "id": "iljrmYH5_dQj",
        "outputId": "4d542ab8-b83c-44f4-d469-67142aa6c4ab"
      },
      "outputs": [
        {
          "output_type": "stream",
          "name": "stderr",
          "text": [
            "Downloading...\n",
            "From: https://bit.ly/3q9SZix\n",
            "To: /content/20s_best_book.json\n",
            "100%|██████████| 92.9k/92.9k [00:00<00:00, 39.0MB/s]\n",
            "Downloading...\n",
            "From: https://drive.google.com/u/0/uc?id=1Zc5-PmwgGwm0MTPRgUXkekisvDAVTyG6&export=download\n",
            "To: /content/20s_best_book_2.json\n",
            "100%|██████████| 79.1k/79.1k [00:00<00:00, 30.9MB/s]\n"
          ]
        },
        {
          "output_type": "execute_result",
          "data": {
            "text/plain": [
              "'20s_best_book_2.json'"
            ],
            "application/vnd.google.colaboratory.intrinsic+json": {
              "type": "string"
            }
          },
          "metadata": {},
          "execution_count": 1
        }
      ],
      "source": [
        "import gdown\n",
        "import pandas as pd\n",
        "\n",
        "gdown.download('https://bit.ly/3q9SZix','20s_best_book.json',quiet=False)\n",
        "gdown.download(\"https://drive.google.com/u/0/uc?id=1Zc5-PmwgGwm0MTPRgUXkekisvDAVTyG6&export=download\",'20s_best_book_2.json',quiet=False)\n",
        "\n"
      ]
    },
    {
      "cell_type": "code",
      "source": [
        "#온라인 서점의 검색 결과 페이지 URL로 만들기\n",
        "import requests\n",
        "isbn_num = int(input('isbn?'))\n",
        "\n",
        "url = \"http://www.yes24.com/product/search?query=\"+str(isbn_num)\n",
        "\n",
        "print(url)"
      ],
      "metadata": {
        "colab": {
          "base_uri": "https://localhost:8080/"
        },
        "id": "KsRMNZjOAPR3",
        "outputId": "79bb8edd-6b05-49d5-aa33-03150d6558c7"
      },
      "execution_count": 2,
      "outputs": [
        {
          "output_type": "stream",
          "name": "stdout",
          "text": [
            "isbn?9791168473690\n",
            "http://www.yes24.com/product/search?query=9791168473690\n"
          ]
        }
      ]
    },
    {
      "cell_type": "code",
      "source": [
        "#request.get() 함수로 검색 결과 페이지의 HTML을 가져오기\n",
        "\n",
        "req = requests.get(url.format(isbn_num))"
      ],
      "metadata": {
        "id": "LgdPSVhZBL5Y"
      },
      "execution_count": 3,
      "outputs": []
    },
    {
      "cell_type": "code",
      "source": [
        "#뷰티플수프로 HTML파싱\n",
        "\n",
        "from bs4 import BeautifulSoup\n",
        "\n",
        "soup = BeautifulSoup(req.text,'html.parser')"
      ],
      "metadata": {
        "id": "-Bs3A2jFBntq"
      },
      "execution_count": 4,
      "outputs": []
    },
    {
      "cell_type": "code",
      "source": [
        "#뷰티플 스프의 find 메서드로 상세 페이지 추출\n",
        "\n",
        "prd_link = soup.find('a',attrs={'class':'gd_name'}) #a.gd_name => 개발자 도구 -> select키고 호버하면 나오는 정보\n",
        "\n",
        "print(prd_link)"
      ],
      "metadata": {
        "colab": {
          "base_uri": "https://localhost:8080/"
        },
        "id": "5yCYweAxCMJE",
        "outputId": "e428ff1c-2956-4389-f59a-a31aa0fd1e02"
      },
      "execution_count": 5,
      "outputs": [
        {
          "output_type": "stream",
          "name": "stdout",
          "text": [
            "<a class=\"gd_name\" href=\"/Product/Goods/117014613\" onclick=\"setSCode('101_005_003_001');setGoodsClickExtraCodeHub('032', '9791168473690', '117014613', '0');\">세이노의 가르침</a>\n"
          ]
        }
      ]
    },
    {
      "cell_type": "code",
      "source": [
        "#requests.get 함수로 상세페이지 url 가져오기 + parsing\n",
        "detail_url = 'http://www.yes24.com'+prd_link['href']\n",
        "\n",
        "req = requests.get(detail_url)\n",
        "\n",
        "soup = BeautifulSoup(req.text,'html.parser')"
      ],
      "metadata": {
        "id": "AsDlXn8-CyzO"
      },
      "execution_count": 6,
      "outputs": []
    },
    {
      "cell_type": "markdown",
      "source": [],
      "metadata": {
        "id": "M3r_9DTcDu80"
      }
    },
    {
      "cell_type": "code",
      "source": [
        "#뷰티플 스프의 find 메서드로 품목정보 div태그 찾기\n",
        "prd_detail = soup.find('div',attrs={'id':'infoset_specific'})"
      ],
      "metadata": {
        "id": "CjJHahXIDur0"
      },
      "execution_count": 7,
      "outputs": []
    },
    {
      "cell_type": "code",
      "source": [
        "#find all로 tr태그 찾기 -> 쪽수 출력력\n",
        "prd_tr_find = prd_detail.find_all('tr')\n",
        "\n",
        "for i in prd_tr_find:\n",
        "  if i.find('th').get_text()=='쪽수, 무게, 크기':\n",
        "    page = i.find('td').get_text();\n",
        "    break\n",
        "\n",
        "print(page.split()[0])"
      ],
      "metadata": {
        "colab": {
          "base_uri": "https://localhost:8080/"
        },
        "id": "Ue333oXvEnfB",
        "outputId": "7cbcc918-636f-4f29-9bb8-0d0be7694bce"
      },
      "execution_count": 8,
      "outputs": [
        {
          "output_type": "stream",
          "name": "stdout",
          "text": [
            "736쪽\n"
          ]
        }
      ]
    }
  ]
}